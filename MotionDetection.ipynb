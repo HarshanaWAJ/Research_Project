{
 "cells": [
  {
   "cell_type": "code",
   "execution_count": 13,
   "id": "b649d65b-37d1-449e-9d3a-e5e38165cf73",
   "metadata": {},
   "outputs": [
    {
     "name": "stdout",
     "output_type": "stream",
     "text": [
      "Channels:\n",
      " - conda-forge\n",
      " - defaults\n",
      "Platform: win-64\n",
      "Collecting package metadata (repodata.json): ...working... failed\n"
     ]
    },
    {
     "name": "stderr",
     "output_type": "stream",
     "text": [
      "\n",
      "CondaHTTPError: HTTP 000 CONNECTION FAILED for url <https://conda.anaconda.org/conda-forge/win-64/repodata.json>\n",
      "Elapsed: -\n",
      "\n",
      "An HTTP error occurred when trying to retrieve this URL.\n",
      "HTTP errors are often intermittent, and a simple retry will get you on your way.\n",
      "'https//conda.anaconda.org/conda-forge/win-64'\n",
      "\n",
      "\n"
     ]
    }
   ],
   "source": [
    "!conda install -c conda-forge opencv pyopengl"
   ]
  },
  {
   "cell_type": "code",
   "execution_count": 8,
   "id": "91c79bf5-1f46-468e-a007-d1fbab8f1478",
   "metadata": {},
   "outputs": [
    {
     "ename": "ModuleNotFoundError",
     "evalue": "No module named 'mediapipe'",
     "output_type": "error",
     "traceback": [
      "\u001b[1;31m---------------------------------------------------------------------------\u001b[0m",
      "\u001b[1;31mModuleNotFoundError\u001b[0m                       Traceback (most recent call last)",
      "Cell \u001b[1;32mIn[8], line 2\u001b[0m\n\u001b[0;32m      1\u001b[0m \u001b[38;5;28;01mimport\u001b[39;00m \u001b[38;5;21;01mcv2\u001b[39;00m\n\u001b[1;32m----> 2\u001b[0m \u001b[38;5;28;01mimport\u001b[39;00m \u001b[38;5;21;01mmediapipe\u001b[39;00m \u001b[38;5;28;01mas\u001b[39;00m \u001b[38;5;21;01mmp\u001b[39;00m\n\u001b[0;32m      3\u001b[0m \u001b[38;5;28;01mimport\u001b[39;00m \u001b[38;5;21;01mnumpy\u001b[39;00m \u001b[38;5;28;01mas\u001b[39;00m \u001b[38;5;21;01mnp\u001b[39;00m\n\u001b[0;32m      4\u001b[0m \u001b[38;5;28;01mfrom\u001b[39;00m \u001b[38;5;21;01mOpenGL\u001b[39;00m\u001b[38;5;21;01m.\u001b[39;00m\u001b[38;5;21;01mGL\u001b[39;00m \u001b[38;5;28;01mimport\u001b[39;00m \u001b[38;5;241m*\u001b[39m\n",
      "\u001b[1;31mModuleNotFoundError\u001b[0m: No module named 'mediapipe'"
     ]
    }
   ],
   "source": [
    "import cv2\n",
    "import mediapipe as mp\n",
    "import numpy as np\n",
    "from OpenGL.GL import *\n",
    "from OpenGL.GLUT import *\n",
    "from OpenGL.GLU import *\n",
    "import tensorflow as tf"
   ]
  },
  {
   "cell_type": "code",
   "execution_count": null,
   "id": "24a620a5-231c-4269-9c18-b06a606d9fae",
   "metadata": {},
   "outputs": [],
   "source": [
    "# Initialize MediaPipe Pose for pose detection\n",
    "mp_pose = mp.solutions.pose\n",
    "pose = mp_pose.Pose(min_detection_confidence=0.5, min_tracking_confidence=0.5)"
   ]
  },
  {
   "cell_type": "code",
   "execution_count": null,
   "id": "46200c41-147b-4184-8b49-7f99957cf5f0",
   "metadata": {},
   "outputs": [],
   "source": [
    "# Initialize motion detection using OpenCV's background subtraction\n",
    "fgbg = cv2.createBackgroundSubtractorMOG2()"
   ]
  },
  {
   "cell_type": "code",
   "execution_count": null,
   "id": "514c69af-f7fc-41c8-9de7-c69a26865a6f",
   "metadata": {},
   "outputs": [],
   "source": [
    "# Initialize OpenCV VideoCapture\n",
    "video_path = 'path_to_video.mp4'\n",
    "cap = cv2.VideoCapture(video_path)"
   ]
  },
  {
   "cell_type": "code",
   "execution_count": null,
   "id": "a2fb1b60-b11b-4d59-a912-1cf560933e75",
   "metadata": {},
   "outputs": [],
   "source": [
    "# OpenGL window setup\n",
    "def setup():\n",
    "    glClearColor(0.0, 0.0, 0.0, 1.0)  # Black background\n",
    "    glEnable(GL_DEPTH_TEST)\n",
    "\n",
    "def draw_3d_objects(landmarks):\n",
    "    \"\"\"\n",
    "    Use OpenGL to draw the pose landmarks in 3D space.\n",
    "    \"\"\"\n",
    "    glBegin(GL_POINTS)\n",
    "    for landmark in landmarks:\n",
    "        x, y, z = landmark\n",
    "        glVertex3f(x, y, z)\n",
    "    glEnd()\n"
   ]
  },
  {
   "cell_type": "code",
   "execution_count": null,
   "id": "e39407cb-b10c-4d3b-8736-ee38642c55cb",
   "metadata": {},
   "outputs": [],
   "source": [
    "def render_frame(frame, landmarks):\n",
    "    \"\"\"\n",
    "    This function will render the 3D objects on the video frame\n",
    "    using OpenGL.\n",
    "    \"\"\"\n",
    "    glClear(GL_COLOR_BUFFER_BIT | GL_DEPTH_BUFFER_BIT)\n",
    "    glLoadIdentity()\n",
    "\n",
    "    # Set the camera\n",
    "    glTranslatef(0.0, 0.0, -5)  # Move back to see objects\n",
    "\n",
    "    # Draw the 3D pose landmarks\n",
    "    draw_3d_objects(landmarks)\n",
    "    \n",
    "    # Render the video frame\n",
    "    frame = cv2.cvtColor(frame, cv2.COLOR_BGR2RGB)\n",
    "    frame = np.array(frame, dtype=np.uint8)\n",
    "    glDrawPixels(frame.shape[1], frame.shape[0], GL_RGB, GL_UNSIGNED_BYTE, frame)\n",
    "\n",
    "    glutSwapBuffers()"
   ]
  },
  {
   "cell_type": "code",
   "execution_count": null,
   "id": "b9877148-1b86-41fd-9d35-e6e58595370a",
   "metadata": {},
   "outputs": [],
   "source": [
    "# Process video frames and detect motion/pose\n",
    "while cap.isOpened():\n",
    "    ret, frame = cap.read()\n",
    "    if not ret:\n",
    "        break\n",
    "\n",
    "    # 1. Motion detection: Get moving objects\n",
    "    fgmask = fgbg.apply(frame)\n",
    "    contours, _ = cv2.findContours(fgmask, cv2.RETR_EXTERNAL, cv2.CHAIN_APPROX_SIMPLE)\n",
    "\n",
    "    # 2. Pose detection with MediaPipe\n",
    "    rgb_frame = cv2.cvtColor(frame, cv2.COLOR_BGR2RGB)\n",
    "    result = pose.process(rgb_frame)\n",
    "\n",
    "    # 3. Get 3D landmarks for pose (assumed to be in world coordinates, simple conversion)\n",
    "    landmarks_3d = []\n",
    "    if result.pose_landmarks:\n",
    "        for landmark in result.pose_landmarks.landmark:\n",
    "            landmarks_3d.append([landmark.x * 10, landmark.y * 10, landmark.z * 10])  # Scale for visibility\n",
    "\n",
    "    # 4. Setup OpenGL rendering\n",
    "    glutInit()\n",
    "    glutInitDisplayMode(GLUT_RGB | GLUT_DOUBLE | GLUT_DEPTH)\n",
    "    glutInitWindowSize(frame.shape[1], frame.shape[0])\n",
    "    glutCreateWindow(b\"Cricket 3D Rendering\")\n",
    "\n",
    "    setup()\n",
    "\n",
    "    # Render the 3D scene (pose landmarks)\n",
    "    render_frame(frame, landmarks_3d)\n",
    "\n",
    "    # 5. Display the frame in a separate window\n",
    "    cv2.imshow('Motion Detected', fgmask)\n",
    "\n",
    "    # Close on 'q' key press\n",
    "    if cv2.waitKey(1) & 0xFF == ord('q'):\n",
    "        break"
   ]
  },
  {
   "cell_type": "code",
   "execution_count": null,
   "id": "5cd9b3dd-e431-4086-96cd-6ccf4cecc81d",
   "metadata": {},
   "outputs": [],
   "source": [
    "# Cleanup\n",
    "cap.release()\n",
    "cv2.destroyAllWindows()"
   ]
  }
 ],
 "metadata": {
  "kernelspec": {
   "display_name": "Python 3 (ipykernel)",
   "language": "python",
   "name": "python3"
  },
  "language_info": {
   "codemirror_mode": {
    "name": "ipython",
    "version": 3
   },
   "file_extension": ".py",
   "mimetype": "text/x-python",
   "name": "python",
   "nbconvert_exporter": "python",
   "pygments_lexer": "ipython3",
   "version": "3.12.4"
  }
 },
 "nbformat": 4,
 "nbformat_minor": 5
}
